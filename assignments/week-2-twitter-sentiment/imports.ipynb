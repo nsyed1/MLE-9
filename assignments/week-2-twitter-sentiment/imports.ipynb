{
 "cells": [
  {
   "cell_type": "code",
   "execution_count": 2,
   "id": "dd8ca316",
   "metadata": {},
   "outputs": [
    {
     "name": "stdout",
     "output_type": "stream",
     "text": [
      "Collecting transformers\n",
      "  Using cached transformers-4.21.1-py3-none-any.whl (4.7 MB)\n",
      "Collecting torch\n",
      "  Downloading torch-1.12.1-cp39-none-macosx_10_9_x86_64.whl (133.8 MB)\n",
      "\u001b[K     |████████████████████████████████| 133.8 MB 38 kB/s  eta 0:00:01   |█▎                              | 5.3 MB 516 kB/s eta 0:04:09     |██▋                             | 10.7 MB 592 kB/s eta 0:03:28     |████                            | 17.0 MB 604 kB/s eta 0:03:14     |████▋                           | 19.4 MB 578 kB/s eta 0:03:18     |█████▊                          | 24.1 MB 593 kB/s eta 0:03:06     |█████▉                          | 24.5 MB 593 kB/s eta 0:03:05     |███████                         | 29.0 MB 677 kB/s eta 0:02:35     |████████▎                       | 34.8 MB 742 kB/s eta 0:02:14     |█████████▌                      | 39.5 MB 275 kB/s eta 0:05:42     |██████████▊                     | 45.0 MB 840 kB/s eta 0:01:46     |███████████                     | 45.9 MB 549 kB/s eta 0:02:41     |███████████▎                    | 47.3 MB 631 kB/s eta 0:02:17     |███████████▍                    | 47.5 MB 631 kB/s eta 0:02:17     |███████████▉                    | 49.4 MB 714 kB/s eta 0:01:59     |████████████▍                   | 51.7 MB 345 kB/s eta 0:03:58     |█████████████▋                  | 57.1 MB 718 kB/s eta 0:01:47     |█████████████████               | 71.3 MB 330 kB/s eta 0:03:09     |█████████████████▏              | 72.0 MB 376 kB/s eta 0:02:45     |██████████████████▉             | 78.7 MB 550 kB/s eta 0:01:41     |█████████████████████           | 87.5 MB 388 kB/s eta 0:02:00     |██████████████████████████▏     | 109.2 MB 758 kB/s eta 0:00:33     |████████████████████████████▏   | 117.7 MB 803 kB/s eta 0:00:21     |████████████████████████████▍   | 118.8 MB 703 kB/s eta 0:00:22     |████████████████████████████▍   | 118.9 MB 703 kB/s eta 0:00:22     |█████████████████████████████▎  | 122.2 MB 265 kB/s eta 0:00:44     |██████████████████████████████  | 125.1 MB 795 kB/s eta 0:00:11     |███████████████████████████████▍| 131.2 MB 1.1 MB/s eta 0:00:03\n",
      "\u001b[?25hRequirement already satisfied: packaging>=20.0 in /Users/noor/anaconda3/lib/python3.9/site-packages (from transformers) (21.0)\n",
      "Requirement already satisfied: filelock in /Users/noor/anaconda3/lib/python3.9/site-packages (from transformers) (3.3.1)\n",
      "Requirement already satisfied: numpy>=1.17 in /Users/noor/anaconda3/lib/python3.9/site-packages (from transformers) (1.20.3)\n",
      "Requirement already satisfied: tqdm>=4.27 in /Users/noor/anaconda3/lib/python3.9/site-packages (from transformers) (4.62.3)\n",
      "Requirement already satisfied: regex!=2019.12.17 in /Users/noor/anaconda3/lib/python3.9/site-packages (from transformers) (2021.8.3)\n",
      "Collecting huggingface-hub<1.0,>=0.1.0\n",
      "  Using cached huggingface_hub-0.8.1-py3-none-any.whl (101 kB)\n",
      "Requirement already satisfied: pyyaml>=5.1 in /Users/noor/anaconda3/lib/python3.9/site-packages (from transformers) (6.0)\n",
      "Collecting tokenizers!=0.11.3,<0.13,>=0.11.1\n",
      "  Downloading tokenizers-0.12.1-cp39-cp39-macosx_10_11_x86_64.whl (3.6 MB)\n",
      "\u001b[K     |████████████████████████████████| 3.6 MB 810 kB/s eta 0:00:01\n",
      "\u001b[?25hRequirement already satisfied: requests in /Users/noor/anaconda3/lib/python3.9/site-packages (from transformers) (2.26.0)\n",
      "Requirement already satisfied: typing-extensions in /Users/noor/anaconda3/lib/python3.9/site-packages (from torch) (3.10.0.2)\n",
      "Requirement already satisfied: pyparsing>=2.0.2 in /Users/noor/anaconda3/lib/python3.9/site-packages (from packaging>=20.0->transformers) (3.0.4)\n",
      "Requirement already satisfied: certifi>=2017.4.17 in /Users/noor/anaconda3/lib/python3.9/site-packages (from requests->transformers) (2021.10.8)\n",
      "Requirement already satisfied: idna<4,>=2.5 in /Users/noor/anaconda3/lib/python3.9/site-packages (from requests->transformers) (3.2)\n",
      "Requirement already satisfied: urllib3<1.27,>=1.21.1 in /Users/noor/anaconda3/lib/python3.9/site-packages (from requests->transformers) (1.26.7)\n",
      "Requirement already satisfied: charset-normalizer~=2.0.0 in /Users/noor/anaconda3/lib/python3.9/site-packages (from requests->transformers) (2.0.4)\n",
      "Installing collected packages: tokenizers, huggingface-hub, transformers, torch\n",
      "Successfully installed huggingface-hub-0.8.1 tokenizers-0.12.1 torch-1.12.1 transformers-4.21.1\n",
      "Collecting emoji==0.6.0\n",
      "  Using cached emoji-0.6.0.tar.gz (51 kB)\n",
      "Building wheels for collected packages: emoji\n",
      "  Building wheel for emoji (setup.py) ... \u001b[?25ldone\n",
      "\u001b[?25h  Created wheel for emoji: filename=emoji-0.6.0-py3-none-any.whl size=49735 sha256=2c0bfec55880bbb6d91d1fbd8650d4815af40047e367bea208b29f4520a5fc69\n",
      "  Stored in directory: /Users/noor/Library/Caches/pip/wheels/70/2a/7f/1a0012c86b1061c6ee2ed9568b1f830f857a51e8e416452af2\n",
      "Successfully built emoji\n",
      "Installing collected packages: emoji\n",
      "Successfully installed emoji-0.6.0\n"
     ]
    },
    {
     "data": {
      "application/vnd.jupyter.widget-view+json": {
       "model_id": "b35ec9820e9a4652b2a2a381f44cd6ee",
       "version_major": 2,
       "version_minor": 0
      },
      "text/plain": [
       "Downloading:   0%|          | 0.00/1.13k [00:00<?, ?B/s]"
      ]
     },
     "metadata": {},
     "output_type": "display_data"
    },
    {
     "data": {
      "application/vnd.jupyter.widget-view+json": {
       "model_id": "e4a715b1a23247b985a8a29266475a21",
       "version_major": 2,
       "version_minor": 0
      },
      "text/plain": [
       "Downloading pytorch_model.bin:   0%|          | 0.00/515M [00:00<?, ?B/s]"
      ]
     },
     "metadata": {},
     "output_type": "display_data"
    },
    {
     "data": {
      "application/vnd.jupyter.widget-view+json": {
       "model_id": "6c38bc05d40f4097a8f01ce04b6fb75f",
       "version_major": 2,
       "version_minor": 0
      },
      "text/plain": [
       "Downloading tokenizer_config.json:   0%|          | 0.00/295 [00:00<?, ?B/s]"
      ]
     },
     "metadata": {},
     "output_type": "display_data"
    },
    {
     "data": {
      "application/vnd.jupyter.widget-view+json": {
       "model_id": "e4abc3d34d094618933e22e323632a8f",
       "version_major": 2,
       "version_minor": 0
      },
      "text/plain": [
       "Downloading vocab.txt:   0%|          | 0.00/824k [00:00<?, ?B/s]"
      ]
     },
     "metadata": {},
     "output_type": "display_data"
    },
    {
     "data": {
      "application/vnd.jupyter.widget-view+json": {
       "model_id": "fa7330543aa64d0dbf9ac9e04498be9c",
       "version_major": 2,
       "version_minor": 0
      },
      "text/plain": [
       "Downloading bpe.codes:   0%|          | 0.00/1.03M [00:00<?, ?B/s]"
      ]
     },
     "metadata": {},
     "output_type": "display_data"
    },
    {
     "data": {
      "application/vnd.jupyter.widget-view+json": {
       "model_id": "b68e6674f99a4e108d5b09642753d44c",
       "version_major": 2,
       "version_minor": 0
      },
      "text/plain": [
       "Downloading added_tokens.json:   0%|          | 0.00/17.0 [00:00<?, ?B/s]"
      ]
     },
     "metadata": {},
     "output_type": "display_data"
    },
    {
     "data": {
      "application/vnd.jupyter.widget-view+json": {
       "model_id": "d97f350487024751bb81bcfe268abcb3",
       "version_major": 2,
       "version_minor": 0
      },
      "text/plain": [
       "Downloading special_tokens_map.json:   0%|          | 0.00/150 [00:00<?, ?B/s]"
      ]
     },
     "metadata": {},
     "output_type": "display_data"
    }
   ],
   "source": [
    "!pip install transformers torch\n",
    "!pip install emoji==0.6.0\n",
    "\n",
    "from transformers import pipeline\n",
    "\n",
    "pinstall = pipeline(model=\"finiteautomata/bertweet-base-sentiment-analysis\")"
   ]
  },
  {
   "cell_type": "code",
   "execution_count": null,
   "id": "3ec94f06",
   "metadata": {},
   "outputs": [],
   "source": []
  }
 ],
 "metadata": {
  "kernelspec": {
   "display_name": "mle-course",
   "language": "python",
   "name": "mle-course"
  },
  "language_info": {
   "codemirror_mode": {
    "name": "ipython",
    "version": 3
   },
   "file_extension": ".py",
   "mimetype": "text/x-python",
   "name": "python",
   "nbconvert_exporter": "python",
   "pygments_lexer": "ipython3",
   "version": "3.8.13"
  }
 },
 "nbformat": 4,
 "nbformat_minor": 5
}
