{
 "cells": [
  {
   "cell_type": "code",
   "execution_count": 2,
   "id": "dd8ca316",
   "metadata": {},
   "outputs": [
    {
     "name": "stdout",
     "output_type": "stream",
     "text": [
      "Requirement already satisfied: transformers in /Users/noor/anaconda3/envs/mle-course/lib/python3.8/site-packages (4.21.1)\n",
      "Requirement already satisfied: torch in /Users/noor/anaconda3/envs/mle-course/lib/python3.8/site-packages (1.12.1)\n",
      "Requirement already satisfied: tqdm>=4.27 in /Users/noor/anaconda3/envs/mle-course/lib/python3.8/site-packages (from transformers) (4.64.0)\n",
      "Requirement already satisfied: pyyaml>=5.1 in /Users/noor/anaconda3/envs/mle-course/lib/python3.8/site-packages (from transformers) (6.0)\n",
      "Requirement already satisfied: numpy>=1.17 in /Users/noor/anaconda3/envs/mle-course/lib/python3.8/site-packages (from transformers) (1.23.1)\n",
      "Requirement already satisfied: huggingface-hub<1.0,>=0.1.0 in /Users/noor/anaconda3/envs/mle-course/lib/python3.8/site-packages (from transformers) (0.8.1)\n",
      "Requirement already satisfied: requests in /Users/noor/anaconda3/envs/mle-course/lib/python3.8/site-packages (from transformers) (2.28.1)\n",
      "Requirement already satisfied: packaging>=20.0 in /Users/noor/anaconda3/envs/mle-course/lib/python3.8/site-packages (from transformers) (21.3)\n",
      "Requirement already satisfied: tokenizers!=0.11.3,<0.13,>=0.11.1 in /Users/noor/anaconda3/envs/mle-course/lib/python3.8/site-packages (from transformers) (0.12.1)\n",
      "Requirement already satisfied: filelock in /Users/noor/anaconda3/envs/mle-course/lib/python3.8/site-packages (from transformers) (3.8.0)\n",
      "Requirement already satisfied: regex!=2019.12.17 in /Users/noor/anaconda3/envs/mle-course/lib/python3.8/site-packages (from transformers) (2022.8.17)\n",
      "Requirement already satisfied: typing-extensions in /Users/noor/anaconda3/envs/mle-course/lib/python3.8/site-packages (from torch) (4.3.0)\n",
      "Requirement already satisfied: pyparsing!=3.0.5,>=2.0.2 in /Users/noor/anaconda3/envs/mle-course/lib/python3.8/site-packages (from packaging>=20.0->transformers) (3.0.9)\n",
      "Requirement already satisfied: idna<4,>=2.5 in /Users/noor/anaconda3/envs/mle-course/lib/python3.8/site-packages (from requests->transformers) (3.3)\n",
      "Requirement already satisfied: charset-normalizer<3,>=2 in /Users/noor/anaconda3/envs/mle-course/lib/python3.8/site-packages (from requests->transformers) (2.1.0)\n",
      "Requirement already satisfied: certifi>=2017.4.17 in /Users/noor/anaconda3/envs/mle-course/lib/python3.8/site-packages (from requests->transformers) (2022.6.15)\n",
      "Requirement already satisfied: urllib3<1.27,>=1.21.1 in /Users/noor/anaconda3/envs/mle-course/lib/python3.8/site-packages (from requests->transformers) (1.26.11)\n",
      "Requirement already satisfied: emoji==0.6.0 in /Users/noor/anaconda3/envs/mle-course/lib/python3.8/site-packages (0.6.0)\n"
     ]
    },
    {
     "data": {
      "application/vnd.jupyter.widget-view+json": {
       "model_id": "0c8afebe90f14bd49a366335f2b4c2b8",
       "version_major": 2,
       "version_minor": 0
      },
      "text/plain": [
       "Downloading:   0%|          | 0.00/1.13k [00:00<?, ?B/s]"
      ]
     },
     "metadata": {},
     "output_type": "display_data"
    }
   ],
   "source": [
    "!pip install transformers torch\n",
    "!pip install emoji==0.6.0\n",
    "\n",
    "from transformers import pipeline\n",
    "\n",
    "pinstall = pipeline(model=\"finiteautomata/bertweet-base-sentiment-analysis\")"
   ]
  },
  {
   "cell_type": "code",
   "execution_count": 6,
   "id": "3ec94f06",
   "metadata": {},
   "outputs": [
    {
     "name": "stdout",
     "output_type": "stream",
     "text": [
      "# packages in environment at /Users/noor/anaconda3/envs/mle-course:\r\n",
      "#\r\n",
      "# Name                    Version                   Build  Channel\r\n",
      "appnope                   0.1.3                    pypi_0    pypi\r\n",
      "argon2-cffi               21.3.0                   pypi_0    pypi\r\n",
      "argon2-cffi-bindings      21.2.0                   pypi_0    pypi\r\n",
      "asttokens                 2.0.5                    pypi_0    pypi\r\n",
      "attrs                     22.1.0                   pypi_0    pypi\r\n",
      "backcall                  0.2.0                    pypi_0    pypi\r\n",
      "beautifulsoup4            4.11.1                   pypi_0    pypi\r\n",
      "bleach                    5.0.1                    pypi_0    pypi\r\n",
      "ca-certificates           2022.07.19           hecd8cb5_0  \r\n",
      "certifi                   2022.6.15        py38hecd8cb5_0  \r\n",
      "cffi                      1.15.1                   pypi_0    pypi\r\n",
      "charset-normalizer        2.1.0                    pypi_0    pypi\r\n",
      "cycler                    0.11.0                   pypi_0    pypi\r\n",
      "debugpy                   1.6.2                    pypi_0    pypi\r\n",
      "decorator                 5.1.1                    pypi_0    pypi\r\n",
      "defusedxml                0.7.1                    pypi_0    pypi\r\n",
      "emoji                     0.6.0                    pypi_0    pypi\r\n",
      "entrypoints               0.4                      pypi_0    pypi\r\n",
      "executing                 0.9.1                    pypi_0    pypi\r\n",
      "fastjsonschema            2.16.1                   pypi_0    pypi\r\n",
      "filelock                  3.8.0                    pypi_0    pypi\r\n",
      "fonttools                 4.34.4                   pypi_0    pypi\r\n",
      "huggingface-hub           0.8.1                    pypi_0    pypi\r\n",
      "idna                      3.3                      pypi_0    pypi\r\n",
      "importlib-resources       5.9.0                    pypi_0    pypi\r\n",
      "ipykernel                 6.15.1                   pypi_0    pypi\r\n",
      "ipython                   8.4.0                    pypi_0    pypi\r\n",
      "ipython-genutils          0.2.0                    pypi_0    pypi\r\n",
      "ipywidgets                7.7.1                    pypi_0    pypi\r\n",
      "jedi                      0.18.1                   pypi_0    pypi\r\n",
      "jinja2                    3.1.2                    pypi_0    pypi\r\n",
      "joblib                    1.1.0                    pypi_0    pypi\r\n",
      "jsonschema                4.9.1                    pypi_0    pypi\r\n",
      "jupyter                   1.0.0                    pypi_0    pypi\r\n",
      "jupyter-client            7.3.4                    pypi_0    pypi\r\n",
      "jupyter-console           6.4.4                    pypi_0    pypi\r\n",
      "jupyter-core              4.11.1                   pypi_0    pypi\r\n",
      "jupyterlab-pygments       0.2.2                    pypi_0    pypi\r\n",
      "jupyterlab-widgets        1.1.1                    pypi_0    pypi\r\n",
      "kiwisolver                1.4.4                    pypi_0    pypi\r\n",
      "libcxx                    12.0.0               h2f01273_0  \r\n",
      "libffi                    3.3                  hb1e8313_2  \r\n",
      "markupsafe                2.1.1                    pypi_0    pypi\r\n",
      "matplotlib                3.5.2                    pypi_0    pypi\r\n",
      "matplotlib-inline         0.1.3                    pypi_0    pypi\r\n",
      "mistune                   0.8.4                    pypi_0    pypi\r\n",
      "nbclient                  0.6.6                    pypi_0    pypi\r\n",
      "nbconvert                 6.5.0                    pypi_0    pypi\r\n",
      "nbformat                  5.4.0                    pypi_0    pypi\r\n",
      "ncurses                   6.3                  hca72f7f_3  \r\n",
      "nest-asyncio              1.5.5                    pypi_0    pypi\r\n",
      "notebook                  6.4.12                   pypi_0    pypi\r\n",
      "numpy                     1.23.1                   pypi_0    pypi\r\n",
      "openssl                   1.1.1q               hca72f7f_0  \r\n",
      "packaging                 21.3                     pypi_0    pypi\r\n",
      "pandas                    1.4.3                    pypi_0    pypi\r\n",
      "pandocfilters             1.5.0                    pypi_0    pypi\r\n",
      "parso                     0.8.3                    pypi_0    pypi\r\n",
      "pexpect                   4.8.0                    pypi_0    pypi\r\n",
      "pickleshare               0.7.5                    pypi_0    pypi\r\n",
      "pillow                    9.2.0                    pypi_0    pypi\r\n",
      "pip                       22.2.2                   pypi_0    pypi\r\n",
      "pkgutil-resolve-name      1.3.10                   pypi_0    pypi\r\n",
      "prometheus-client         0.14.1                   pypi_0    pypi\r\n",
      "prompt-toolkit            3.0.30                   pypi_0    pypi\r\n",
      "psutil                    5.9.1                    pypi_0    pypi\r\n",
      "ptyprocess                0.7.0                    pypi_0    pypi\r\n",
      "pure-eval                 0.2.2                    pypi_0    pypi\r\n",
      "pycparser                 2.21                     pypi_0    pypi\r\n",
      "pygments                  2.12.0                   pypi_0    pypi\r\n",
      "pyparsing                 3.0.9                    pypi_0    pypi\r\n",
      "pyrsistent                0.18.1                   pypi_0    pypi\r\n",
      "python                    3.8.13               hdfd78df_0  \r\n",
      "python-dateutil           2.8.2                    pypi_0    pypi\r\n",
      "pytz                      2022.1                   pypi_0    pypi\r\n",
      "pyyaml                    6.0                      pypi_0    pypi\r\n",
      "pyzmq                     23.2.0                   pypi_0    pypi\r\n",
      "qtconsole                 5.3.1                    pypi_0    pypi\r\n",
      "qtpy                      2.1.0                    pypi_0    pypi\r\n",
      "readline                  8.1.2                hca72f7f_1  \r\n",
      "regex                     2022.8.17                pypi_0    pypi\r\n",
      "requests                  2.28.1                   pypi_0    pypi\r\n",
      "scikit-learn              1.1.2                    pypi_0    pypi\r\n",
      "scipy                     1.9.0                    pypi_0    pypi\r\n",
      "seaborn                   0.11.2                   pypi_0    pypi\r\n",
      "send2trash                1.8.0                    pypi_0    pypi\r\n",
      "setuptools                61.2.0           py38hecd8cb5_0  \r\n",
      "six                       1.16.0                   pypi_0    pypi\r\n",
      "soupsieve                 2.3.2.post1              pypi_0    pypi\r\n",
      "sqlite                    3.39.2               h707629a_0  \r\n",
      "stack-data                0.3.0                    pypi_0    pypi\r\n",
      "terminado                 0.15.0                   pypi_0    pypi\r\n",
      "threadpoolctl             3.1.0                    pypi_0    pypi\r\n",
      "tinycss2                  1.1.1                    pypi_0    pypi\r\n",
      "tk                        8.6.12               h5d9f67b_0  \r\n",
      "tokenizers                0.12.1                   pypi_0    pypi\r\n",
      "torch                     1.12.1                   pypi_0    pypi\r\n",
      "tornado                   6.2                      pypi_0    pypi\r\n",
      "tqdm                      4.64.0                   pypi_0    pypi\r\n",
      "traitlets                 5.3.0                    pypi_0    pypi\r\n",
      "transformers              4.21.1                   pypi_0    pypi\r\n",
      "typing-extensions         4.3.0                    pypi_0    pypi\r\n",
      "urllib3                   1.26.11                  pypi_0    pypi\r\n",
      "wcwidth                   0.2.5                    pypi_0    pypi\r\n",
      "webencodings              0.5.1                    pypi_0    pypi\r\n",
      "wheel                     0.37.1             pyhd3eb1b0_0  \r\n",
      "widgetsnbextension        3.6.1                    pypi_0    pypi\r\n",
      "xz                        5.2.5                hca72f7f_1  \r\n",
      "zipp                      3.8.1                    pypi_0    pypi\r\n",
      "zlib                      1.2.12               h4dc903c_2  \r\n"
     ]
    }
   ],
   "source": [
    "!conda list "
   ]
  },
  {
   "cell_type": "code",
   "execution_count": null,
   "id": "8ea35f3c",
   "metadata": {},
   "outputs": [],
   "source": []
  }
 ],
 "metadata": {
  "kernelspec": {
   "display_name": "mle-course",
   "language": "python",
   "name": "mle-course"
  },
  "language_info": {
   "codemirror_mode": {
    "name": "ipython",
    "version": 3
   },
   "file_extension": ".py",
   "mimetype": "text/x-python",
   "name": "python",
   "nbconvert_exporter": "python",
   "pygments_lexer": "ipython3",
   "version": "3.8.13"
  }
 },
 "nbformat": 4,
 "nbformat_minor": 5
}
